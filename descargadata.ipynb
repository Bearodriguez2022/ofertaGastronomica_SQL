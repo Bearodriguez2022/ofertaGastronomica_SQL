{
 "cells": [
  {
   "cell_type": "code",
   "execution_count": 1,
   "metadata": {},
   "outputs": [
    {
     "name": "stdout",
     "output_type": "stream",
     "text": [
      "hola mundo\n"
     ]
    }
   ],
   "source": [
    "print('hola mundo')"
   ]
  },
  {
   "cell_type": "markdown",
   "metadata": {},
   "source": [
    "importo librerias necesarias para descargar y leer csv "
   ]
  },
  {
   "cell_type": "code",
   "execution_count": 2,
   "metadata": {},
   "outputs": [],
   "source": [
    "import pandas as pd\n",
    "import requests"
   ]
  },
  {
   "cell_type": "code",
   "execution_count": 15,
   "metadata": {},
   "outputs": [
    {
     "name": "stdout",
     "output_type": "stream",
     "text": [
      "Descarga exitosa\n"
     ]
    }
   ],
   "source": [
    "url = 'https://cdn.buenosaires.gob.ar/datosabiertos/datasets/ente-de-turismo/oferta-establecimientos-gastronomicos/oferta_gastronomica.csv'\n",
    "\n",
    "response = requests.get(url)\n",
    "\n",
    "# Verifica si la solicitud fue exitosa (código de estado 200)\n",
    "if response.status_code == 200:\n",
    "    # Guarda el contenido de la respuesta en un archivo\n",
    "    with open('oferta_gastronomica.csv', 'wb') as f:\n",
    "        f.write(response.content)\n",
    "    print('Descarga exitosa')\n",
    "else:\n",
    "    print('Error al descargar:', response.status_code)"
   ]
  },
  {
   "cell_type": "markdown",
   "metadata": {},
   "source": [
    "utilicé el enlace directo del csv de la página de manera contraria me descargaba html"
   ]
  },
  {
   "cell_type": "code",
   "execution_count": 16,
   "metadata": {},
   "outputs": [
    {
     "name": "stdout",
     "output_type": "stream",
     "text": [
      "<class 'pandas.core.frame.DataFrame'>\n",
      "RangeIndex: 2823 entries, 0 to 2822\n",
      "Data columns (total 18 columns):\n",
      " #   Column                   Non-Null Count  Dtype  \n",
      "---  ------                   --------------  -----  \n",
      " 0   long                     2823 non-null   float64\n",
      " 1   lat                      2823 non-null   float64\n",
      " 2   id                       2823 non-null   int64  \n",
      " 3   nombre                   2823 non-null   object \n",
      " 4   categoria                2707 non-null   object \n",
      " 5   cocina                   2464 non-null   object \n",
      " 6   ambientacion             2264 non-null   object \n",
      " 7   telefono                 2303 non-null   object \n",
      " 8   mail                     472 non-null    object \n",
      " 9   horario                  725 non-null    object \n",
      " 10  calle_nombre             2823 non-null   object \n",
      " 11  calle_altura             2823 non-null   int64  \n",
      " 12  calle_cruce              6 non-null      object \n",
      " 13  direccion_completa       2822 non-null   object \n",
      " 14  barrio                   2823 non-null   object \n",
      " 15  comuna                   2823 non-null   object \n",
      " 16  codigo_postal            2766 non-null   float64\n",
      " 17  codigo_postal_argentino  2757 non-null   object \n",
      "dtypes: float64(3), int64(2), object(13)\n",
      "memory usage: 397.1+ KB\n"
     ]
    }
   ],
   "source": [
    "oferta_gastronomica = pd.read_csv('oferta_gastronomica.csv')\n",
    "oferta_gastronomica.info()"
   ]
  },
  {
   "cell_type": "code",
   "execution_count": 17,
   "metadata": {},
   "outputs": [
    {
     "data": {
      "text/html": [
       "<div>\n",
       "<style scoped>\n",
       "    .dataframe tbody tr th:only-of-type {\n",
       "        vertical-align: middle;\n",
       "    }\n",
       "\n",
       "    .dataframe tbody tr th {\n",
       "        vertical-align: top;\n",
       "    }\n",
       "\n",
       "    .dataframe thead th {\n",
       "        text-align: right;\n",
       "    }\n",
       "</style>\n",
       "<table border=\"1\" class=\"dataframe\">\n",
       "  <thead>\n",
       "    <tr style=\"text-align: right;\">\n",
       "      <th></th>\n",
       "      <th>long</th>\n",
       "      <th>lat</th>\n",
       "      <th>id</th>\n",
       "      <th>nombre</th>\n",
       "      <th>categoria</th>\n",
       "      <th>cocina</th>\n",
       "      <th>ambientacion</th>\n",
       "      <th>telefono</th>\n",
       "      <th>mail</th>\n",
       "      <th>horario</th>\n",
       "      <th>calle_nombre</th>\n",
       "      <th>calle_altura</th>\n",
       "      <th>calle_cruce</th>\n",
       "      <th>direccion_completa</th>\n",
       "      <th>barrio</th>\n",
       "      <th>comuna</th>\n",
       "      <th>codigo_postal</th>\n",
       "      <th>codigo_postal_argentino</th>\n",
       "    </tr>\n",
       "  </thead>\n",
       "  <tbody>\n",
       "    <tr>\n",
       "      <th>0</th>\n",
       "      <td>-58.363307</td>\n",
       "      <td>-34.622963</td>\n",
       "      <td>1602</td>\n",
       "      <td>GUANTANAMERA</td>\n",
       "      <td>RESTAURANTE</td>\n",
       "      <td>CUBANA</td>\n",
       "      <td>MODERNO</td>\n",
       "      <td>4314 0770</td>\n",
       "      <td>NaN</td>\n",
       "      <td>NaN</td>\n",
       "      <td>MOREAU DE JUSTO ALICIA</td>\n",
       "      <td>2092</td>\n",
       "      <td>NaN</td>\n",
       "      <td>MOREAU DE JUSTO, ALICIA AV. 2092</td>\n",
       "      <td>Puerto Madero</td>\n",
       "      <td>Comuna 1</td>\n",
       "      <td>1107.0</td>\n",
       "      <td>C1107AFP</td>\n",
       "    </tr>\n",
       "    <tr>\n",
       "      <th>1</th>\n",
       "      <td>-58.392330</td>\n",
       "      <td>-34.621554</td>\n",
       "      <td>676</td>\n",
       "      <td>1843 VINACOTECA</td>\n",
       "      <td>VINERIA</td>\n",
       "      <td>NaN</td>\n",
       "      <td>NaN</td>\n",
       "      <td>4779 0806</td>\n",
       "      <td>NaN</td>\n",
       "      <td>lunes a domingo de 8 a 00</td>\n",
       "      <td>HUMBERTO 1º</td>\n",
       "      <td>1843</td>\n",
       "      <td>NaN</td>\n",
       "      <td>HUMBERTO 1º 1843</td>\n",
       "      <td>San Cristobal</td>\n",
       "      <td>Comuna 3</td>\n",
       "      <td>NaN</td>\n",
       "      <td>NaN</td>\n",
       "    </tr>\n",
       "    <tr>\n",
       "      <th>2</th>\n",
       "      <td>-58.453542</td>\n",
       "      <td>-34.560311</td>\n",
       "      <td>487</td>\n",
       "      <td>2080 EXPRESS</td>\n",
       "      <td>RESTAURANTE</td>\n",
       "      <td>TRADICIONAL</td>\n",
       "      <td>CLASICO PORTEÑO</td>\n",
       "      <td>4788 4500</td>\n",
       "      <td>NaN</td>\n",
       "      <td>lunes a domingo de 8 a 00</td>\n",
       "      <td>JURAMENTO</td>\n",
       "      <td>2080</td>\n",
       "      <td>NaN</td>\n",
       "      <td>JURAMENTO AV. 2080</td>\n",
       "      <td>Belgrano</td>\n",
       "      <td>Comuna 13</td>\n",
       "      <td>1428.0</td>\n",
       "      <td>C1428DNH</td>\n",
       "    </tr>\n",
       "    <tr>\n",
       "      <th>3</th>\n",
       "      <td>-58.475491</td>\n",
       "      <td>-34.677051</td>\n",
       "      <td>2737</td>\n",
       "      <td>22</td>\n",
       "      <td>CAFE</td>\n",
       "      <td>MINUTAS</td>\n",
       "      <td>MODERNO</td>\n",
       "      <td>NaN</td>\n",
       "      <td>NaN</td>\n",
       "      <td>NaN</td>\n",
       "      <td>MURGUIONDO</td>\n",
       "      <td>4188</td>\n",
       "      <td>NaN</td>\n",
       "      <td>MURGUIONDO 4188</td>\n",
       "      <td>Villa Lugano</td>\n",
       "      <td>Comuna 8</td>\n",
       "      <td>1439.0</td>\n",
       "      <td>C1439FTB</td>\n",
       "    </tr>\n",
       "    <tr>\n",
       "      <th>4</th>\n",
       "      <td>-58.425437</td>\n",
       "      <td>-34.585695</td>\n",
       "      <td>2</td>\n",
       "      <td>4 EN 2 I</td>\n",
       "      <td>RESTAURANTE</td>\n",
       "      <td>NaN</td>\n",
       "      <td>NaN</td>\n",
       "      <td>4832 9510</td>\n",
       "      <td>NaN</td>\n",
       "      <td>NaN</td>\n",
       "      <td>BORGES JORGE LUIS</td>\n",
       "      <td>2095</td>\n",
       "      <td>NaN</td>\n",
       "      <td>BORGES, JORGE LUIS 2095</td>\n",
       "      <td>Palermo</td>\n",
       "      <td>Comuna 14</td>\n",
       "      <td>1425.0</td>\n",
       "      <td>C1425FFA</td>\n",
       "    </tr>\n",
       "  </tbody>\n",
       "</table>\n",
       "</div>"
      ],
      "text/plain": [
       "        long        lat    id           nombre    categoria       cocina  \\\n",
       "0 -58.363307 -34.622963  1602     GUANTANAMERA  RESTAURANTE       CUBANA   \n",
       "1 -58.392330 -34.621554   676  1843 VINACOTECA      VINERIA          NaN   \n",
       "2 -58.453542 -34.560311   487     2080 EXPRESS  RESTAURANTE  TRADICIONAL   \n",
       "3 -58.475491 -34.677051  2737               22         CAFE      MINUTAS   \n",
       "4 -58.425437 -34.585695     2         4 EN 2 I  RESTAURANTE          NaN   \n",
       "\n",
       "      ambientacion   telefono mail                    horario  \\\n",
       "0          MODERNO  4314 0770  NaN                        NaN   \n",
       "1              NaN  4779 0806  NaN  lunes a domingo de 8 a 00   \n",
       "2  CLASICO PORTEÑO  4788 4500  NaN  lunes a domingo de 8 a 00   \n",
       "3          MODERNO        NaN  NaN                        NaN   \n",
       "4              NaN  4832 9510  NaN                        NaN   \n",
       "\n",
       "             calle_nombre  calle_altura calle_cruce  \\\n",
       "0  MOREAU DE JUSTO ALICIA          2092         NaN   \n",
       "1             HUMBERTO 1º          1843         NaN   \n",
       "2               JURAMENTO          2080         NaN   \n",
       "3              MURGUIONDO          4188         NaN   \n",
       "4       BORGES JORGE LUIS          2095         NaN   \n",
       "\n",
       "                 direccion_completa         barrio     comuna  codigo_postal  \\\n",
       "0  MOREAU DE JUSTO, ALICIA AV. 2092  Puerto Madero   Comuna 1         1107.0   \n",
       "1                  HUMBERTO 1º 1843  San Cristobal   Comuna 3            NaN   \n",
       "2                JURAMENTO AV. 2080       Belgrano  Comuna 13         1428.0   \n",
       "3                   MURGUIONDO 4188   Villa Lugano   Comuna 8         1439.0   \n",
       "4           BORGES, JORGE LUIS 2095        Palermo  Comuna 14         1425.0   \n",
       "\n",
       "  codigo_postal_argentino  \n",
       "0                C1107AFP  \n",
       "1                     NaN  \n",
       "2                C1428DNH  \n",
       "3                C1439FTB  \n",
       "4                C1425FFA  "
      ]
     },
     "execution_count": 17,
     "metadata": {},
     "output_type": "execute_result"
    }
   ],
   "source": [
    "oferta_gastronomica.head()"
   ]
  }
 ],
 "metadata": {
  "kernelspec": {
   "display_name": "Python 3",
   "language": "python",
   "name": "python3"
  },
  "language_info": {
   "codemirror_mode": {
    "name": "ipython",
    "version": 3
   },
   "file_extension": ".py",
   "mimetype": "text/x-python",
   "name": "python",
   "nbconvert_exporter": "python",
   "pygments_lexer": "ipython3",
   "version": "3.11.4"
  }
 },
 "nbformat": 4,
 "nbformat_minor": 2
}
