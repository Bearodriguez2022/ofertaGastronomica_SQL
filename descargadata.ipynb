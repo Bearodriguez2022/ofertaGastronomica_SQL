{
 "cells": [
  {
   "cell_type": "code",
   "execution_count": 1,
   "metadata": {},
   "outputs": [
    {
     "name": "stdout",
     "output_type": "stream",
     "text": [
      "hola mundo\n"
     ]
    }
   ],
   "source": [
    "print('hola mundo')"
   ]
  },
  {
   "cell_type": "markdown",
   "metadata": {},
   "source": [
    "importo librerias necesarias para descargar y leer csv "
   ]
  },
  {
   "cell_type": "code",
   "execution_count": 2,
   "metadata": {},
   "outputs": [],
   "source": [
    "import pandas as pd\n",
    "import requests"
   ]
  },
  {
   "cell_type": "code",
   "execution_count": 6,
   "metadata": {},
   "outputs": [
    {
     "name": "stdout",
     "output_type": "stream",
     "text": [
      "Descarga exitosa\n"
     ]
    }
   ],
   "source": [
    "#codigo clases\n",
    "url = 'https://cdn.buenosaires.gob.ar/datosabiertos/datasets/ente-de-turismo/oferta-establecimientos-gastronomicos/oferta_gastronomica.csv'\n",
    "\n",
    "response = requests.get(url)\n",
    "\n",
    "# Verifica si la solicitud fue exitosa (código de estado 200)\n",
    "if response.status_code == 200:\n",
    "    # Guarda el contenido de la respuesta en un archivo\n",
    "    with open('oferta_gastronomica.csv', 'wb') as f:\n",
    "        f.write(response.content)\n",
    "    print('Descarga exitosa')\n",
    "else:\n",
    "    print('Error al descargar:', response.status_code)"
   ]
  },
  {
   "cell_type": "markdown",
   "metadata": {},
   "source": [
    "Manera fácil.utilicé el enlace directo del csv de la página de manera contraria me descargaba html"
   ]
  },
  {
   "cell_type": "code",
   "execution_count": 7,
   "metadata": {},
   "outputs": [
    {
     "name": "stdout",
     "output_type": "stream",
     "text": [
      "<class 'pandas.core.frame.DataFrame'>\n",
      "RangeIndex: 2823 entries, 0 to 2822\n",
      "Data columns (total 18 columns):\n",
      " #   Column                   Non-Null Count  Dtype  \n",
      "---  ------                   --------------  -----  \n",
      " 0   long                     2823 non-null   float64\n",
      " 1   lat                      2823 non-null   float64\n",
      " 2   id                       2823 non-null   int64  \n",
      " 3   nombre                   2823 non-null   object \n",
      " 4   categoria                2707 non-null   object \n",
      " 5   cocina                   2464 non-null   object \n",
      " 6   ambientacion             2264 non-null   object \n",
      " 7   telefono                 2303 non-null   object \n",
      " 8   mail                     472 non-null    object \n",
      " 9   horario                  725 non-null    object \n",
      " 10  calle_nombre             2823 non-null   object \n",
      " 11  calle_altura             2823 non-null   int64  \n",
      " 12  calle_cruce              6 non-null      object \n",
      " 13  direccion_completa       2822 non-null   object \n",
      " 14  barrio                   2823 non-null   object \n",
      " 15  comuna                   2823 non-null   object \n",
      " 16  codigo_postal            2766 non-null   float64\n",
      " 17  codigo_postal_argentino  2757 non-null   object \n",
      "dtypes: float64(3), int64(2), object(13)\n",
      "memory usage: 397.1+ KB\n"
     ]
    }
   ],
   "source": [
    "oferta_gastronomica = pd.read_csv('oferta_gastronomica.csv')\n",
    "oferta_gastronomica.info()"
   ]
  },
  {
   "cell_type": "code",
   "execution_count": 8,
   "metadata": {},
   "outputs": [
    {
     "data": {
      "text/html": [
       "<div>\n",
       "<style scoped>\n",
       "    .dataframe tbody tr th:only-of-type {\n",
       "        vertical-align: middle;\n",
       "    }\n",
       "\n",
       "    .dataframe tbody tr th {\n",
       "        vertical-align: top;\n",
       "    }\n",
       "\n",
       "    .dataframe thead th {\n",
       "        text-align: right;\n",
       "    }\n",
       "</style>\n",
       "<table border=\"1\" class=\"dataframe\">\n",
       "  <thead>\n",
       "    <tr style=\"text-align: right;\">\n",
       "      <th></th>\n",
       "      <th>long</th>\n",
       "      <th>lat</th>\n",
       "      <th>id</th>\n",
       "      <th>nombre</th>\n",
       "      <th>categoria</th>\n",
       "      <th>cocina</th>\n",
       "      <th>ambientacion</th>\n",
       "      <th>telefono</th>\n",
       "      <th>mail</th>\n",
       "      <th>horario</th>\n",
       "      <th>calle_nombre</th>\n",
       "      <th>calle_altura</th>\n",
       "      <th>calle_cruce</th>\n",
       "      <th>direccion_completa</th>\n",
       "      <th>barrio</th>\n",
       "      <th>comuna</th>\n",
       "      <th>codigo_postal</th>\n",
       "      <th>codigo_postal_argentino</th>\n",
       "    </tr>\n",
       "  </thead>\n",
       "  <tbody>\n",
       "    <tr>\n",
       "      <th>0</th>\n",
       "      <td>-58.363307</td>\n",
       "      <td>-34.622963</td>\n",
       "      <td>1602</td>\n",
       "      <td>GUANTANAMERA</td>\n",
       "      <td>RESTAURANTE</td>\n",
       "      <td>CUBANA</td>\n",
       "      <td>MODERNO</td>\n",
       "      <td>4314 0770</td>\n",
       "      <td>NaN</td>\n",
       "      <td>NaN</td>\n",
       "      <td>MOREAU DE JUSTO ALICIA</td>\n",
       "      <td>2092</td>\n",
       "      <td>NaN</td>\n",
       "      <td>MOREAU DE JUSTO, ALICIA AV. 2092</td>\n",
       "      <td>Puerto Madero</td>\n",
       "      <td>Comuna 1</td>\n",
       "      <td>1107.0</td>\n",
       "      <td>C1107AFP</td>\n",
       "    </tr>\n",
       "    <tr>\n",
       "      <th>1</th>\n",
       "      <td>-58.392330</td>\n",
       "      <td>-34.621554</td>\n",
       "      <td>676</td>\n",
       "      <td>1843 VINACOTECA</td>\n",
       "      <td>VINERIA</td>\n",
       "      <td>NaN</td>\n",
       "      <td>NaN</td>\n",
       "      <td>4779 0806</td>\n",
       "      <td>NaN</td>\n",
       "      <td>lunes a domingo de 8 a 00</td>\n",
       "      <td>HUMBERTO 1º</td>\n",
       "      <td>1843</td>\n",
       "      <td>NaN</td>\n",
       "      <td>HUMBERTO 1º 1843</td>\n",
       "      <td>San Cristobal</td>\n",
       "      <td>Comuna 3</td>\n",
       "      <td>NaN</td>\n",
       "      <td>NaN</td>\n",
       "    </tr>\n",
       "    <tr>\n",
       "      <th>2</th>\n",
       "      <td>-58.453542</td>\n",
       "      <td>-34.560311</td>\n",
       "      <td>487</td>\n",
       "      <td>2080 EXPRESS</td>\n",
       "      <td>RESTAURANTE</td>\n",
       "      <td>TRADICIONAL</td>\n",
       "      <td>CLASICO PORTEÑO</td>\n",
       "      <td>4788 4500</td>\n",
       "      <td>NaN</td>\n",
       "      <td>lunes a domingo de 8 a 00</td>\n",
       "      <td>JURAMENTO</td>\n",
       "      <td>2080</td>\n",
       "      <td>NaN</td>\n",
       "      <td>JURAMENTO AV. 2080</td>\n",
       "      <td>Belgrano</td>\n",
       "      <td>Comuna 13</td>\n",
       "      <td>1428.0</td>\n",
       "      <td>C1428DNH</td>\n",
       "    </tr>\n",
       "    <tr>\n",
       "      <th>3</th>\n",
       "      <td>-58.475491</td>\n",
       "      <td>-34.677051</td>\n",
       "      <td>2737</td>\n",
       "      <td>22</td>\n",
       "      <td>CAFE</td>\n",
       "      <td>MINUTAS</td>\n",
       "      <td>MODERNO</td>\n",
       "      <td>NaN</td>\n",
       "      <td>NaN</td>\n",
       "      <td>NaN</td>\n",
       "      <td>MURGUIONDO</td>\n",
       "      <td>4188</td>\n",
       "      <td>NaN</td>\n",
       "      <td>MURGUIONDO 4188</td>\n",
       "      <td>Villa Lugano</td>\n",
       "      <td>Comuna 8</td>\n",
       "      <td>1439.0</td>\n",
       "      <td>C1439FTB</td>\n",
       "    </tr>\n",
       "    <tr>\n",
       "      <th>4</th>\n",
       "      <td>-58.425437</td>\n",
       "      <td>-34.585695</td>\n",
       "      <td>2</td>\n",
       "      <td>4 EN 2 I</td>\n",
       "      <td>RESTAURANTE</td>\n",
       "      <td>NaN</td>\n",
       "      <td>NaN</td>\n",
       "      <td>4832 9510</td>\n",
       "      <td>NaN</td>\n",
       "      <td>NaN</td>\n",
       "      <td>BORGES JORGE LUIS</td>\n",
       "      <td>2095</td>\n",
       "      <td>NaN</td>\n",
       "      <td>BORGES, JORGE LUIS 2095</td>\n",
       "      <td>Palermo</td>\n",
       "      <td>Comuna 14</td>\n",
       "      <td>1425.0</td>\n",
       "      <td>C1425FFA</td>\n",
       "    </tr>\n",
       "  </tbody>\n",
       "</table>\n",
       "</div>"
      ],
      "text/plain": [
       "        long        lat    id           nombre    categoria       cocina  \\\n",
       "0 -58.363307 -34.622963  1602     GUANTANAMERA  RESTAURANTE       CUBANA   \n",
       "1 -58.392330 -34.621554   676  1843 VINACOTECA      VINERIA          NaN   \n",
       "2 -58.453542 -34.560311   487     2080 EXPRESS  RESTAURANTE  TRADICIONAL   \n",
       "3 -58.475491 -34.677051  2737               22         CAFE      MINUTAS   \n",
       "4 -58.425437 -34.585695     2         4 EN 2 I  RESTAURANTE          NaN   \n",
       "\n",
       "      ambientacion   telefono mail                    horario  \\\n",
       "0          MODERNO  4314 0770  NaN                        NaN   \n",
       "1              NaN  4779 0806  NaN  lunes a domingo de 8 a 00   \n",
       "2  CLASICO PORTEÑO  4788 4500  NaN  lunes a domingo de 8 a 00   \n",
       "3          MODERNO        NaN  NaN                        NaN   \n",
       "4              NaN  4832 9510  NaN                        NaN   \n",
       "\n",
       "             calle_nombre  calle_altura calle_cruce  \\\n",
       "0  MOREAU DE JUSTO ALICIA          2092         NaN   \n",
       "1             HUMBERTO 1º          1843         NaN   \n",
       "2               JURAMENTO          2080         NaN   \n",
       "3              MURGUIONDO          4188         NaN   \n",
       "4       BORGES JORGE LUIS          2095         NaN   \n",
       "\n",
       "                 direccion_completa         barrio     comuna  codigo_postal  \\\n",
       "0  MOREAU DE JUSTO, ALICIA AV. 2092  Puerto Madero   Comuna 1         1107.0   \n",
       "1                  HUMBERTO 1º 1843  San Cristobal   Comuna 3            NaN   \n",
       "2                JURAMENTO AV. 2080       Belgrano  Comuna 13         1428.0   \n",
       "3                   MURGUIONDO 4188   Villa Lugano   Comuna 8         1439.0   \n",
       "4           BORGES, JORGE LUIS 2095        Palermo  Comuna 14         1425.0   \n",
       "\n",
       "  codigo_postal_argentino  \n",
       "0                C1107AFP  \n",
       "1                     NaN  \n",
       "2                C1428DNH  \n",
       "3                C1439FTB  \n",
       "4                C1425FFA  "
      ]
     },
     "execution_count": 8,
     "metadata": {},
     "output_type": "execute_result"
    }
   ],
   "source": [
    "oferta_gastronomica.head()"
   ]
  },
  {
   "cell_type": "markdown",
   "metadata": {},
   "source": [
    "ahora voy a conectar con mysql"
   ]
  },
  {
   "cell_type": "code",
   "execution_count": 13,
   "metadata": {},
   "outputs": [],
   "source": [
    "import csv\n",
    "import requests\n",
    "import pymysql\n",
    "from io import StringIO#permite pasar a string\n",
    "import pandas as pd"
   ]
  },
  {
   "cell_type": "markdown",
   "metadata": {},
   "source": [
    "importante cerrar cursor siempre para evitar que hallan cambios"
   ]
  },
  {
   "cell_type": "markdown",
   "metadata": {},
   "source": [
    "A trabajar con sql:\n",
    "\n",
    "1_ Elegimos las columnas que vamos a necesitar:"
   ]
  },
  {
   "cell_type": "code",
   "execution_count": 17,
   "metadata": {},
   "outputs": [
    {
     "name": "stdout",
     "output_type": "stream",
     "text": [
      "            nombre    categoria                direccion_completa  \\\n",
      "0     GUANTANAMERA  RESTAURANTE  MOREAU DE JUSTO, ALICIA AV. 2092   \n",
      "1  1843 VINACOTECA      VINERIA                 HUMBERTO 1Âº 1843   \n",
      "2     2080 EXPRESS  RESTAURANTE                JURAMENTO AV. 2080   \n",
      "3               22         CAFE                   MURGUIONDO 4188   \n",
      "4         4 EN 2 I  RESTAURANTE           BORGES, JORGE LUIS 2095   \n",
      "\n",
      "          barrio     comuna  \n",
      "0  Puerto Madero   Comuna 1  \n",
      "1  San Cristobal   Comuna 3  \n",
      "2       Belgrano  Comuna 13  \n",
      "3   Villa Lugano   Comuna 8  \n",
      "4        Palermo  Comuna 14  \n"
     ]
    }
   ],
   "source": [
    "# URL del CSV\n",
    "url = 'https://cdn.buenosaires.gob.ar/datosabiertos/datasets/ente-de-turismo/oferta-establecimientos-gastronomicos/oferta_gastronomica.csv'\n",
    "\n",
    "# Descargar el CSV\n",
    "response = requests.get(url)\n",
    "response.raise_for_status()  # Asegura que la solicitud se realizó correctamente\n",
    "\n",
    "# Leer el CSV en un DataFrame\n",
    "data = StringIO(response.text)\n",
    "df = pd.read_csv(data)\n",
    "\n",
    "# Seleccionar las columnas deseadas\n",
    "columns_of_interest = ['nombre', 'categoria', 'direccion_completa', 'barrio', 'comuna']\n",
    "df_filtered = df[columns_of_interest]\n",
    "\n",
    "# Mostrar las primeras filas del DataFrame filtrado\n",
    "print(df_filtered.head())\n",
    "\n",
    "# Si quieres guardar el resultado en un nuevo archivo CSV\n",
    "df_filtered.to_csv('OG_filtrado.csv', index=False)\n"
   ]
  },
  {
   "cell_type": "markdown",
   "metadata": {},
   "source": [
    "Conecto con MySQL"
   ]
  },
  {
   "cell_type": "code",
   "execution_count": null,
   "metadata": {},
   "outputs": [],
   "source": [
    "import requests\n",
    "import pandas as pd\n",
    "from io import StringIO\n",
    "import mysql.connector\n"
   ]
  },
  {
   "cell_type": "code",
   "execution_count": 49,
   "metadata": {},
   "outputs": [],
   "source": [
    "conexion = pymysql.connect(\n",
    "   host='localhost',\n",
    "   database='gastronomia',\n",
    "   user='root',\n",
    "   password='12345'\n",
    ")\n",
    "cursor = conexion.cursor()\n"
   ]
  },
  {
   "cell_type": "markdown",
   "metadata": {},
   "source": [
    "Cree una tabla con los siguientes campos: id_local, nombre, categoria, direccion, barrio, comuna en MySQL."
   ]
  },
  {
   "cell_type": "code",
   "execution_count": 36,
   "metadata": {},
   "outputs": [
    {
     "data": {
      "text/plain": [
       "0"
      ]
     },
     "execution_count": 36,
     "metadata": {},
     "output_type": "execute_result"
    }
   ],
   "source": [
    "#desde py creo la tabla\n",
    "#Crear la tabla si no existe\n",
    "create_table_query = \"\"\"\n",
    "CREATE TABLE IF NOT EXISTS establecimientos (\n",
    "    id_local INT AUTO_INCREMENT PRIMARY KEY,\n",
    "    nombre VARCHAR(255),\n",
    "    categoria VARCHAR(255),\n",
    "    direccion VARCHAR(255),\n",
    "    barrio VARCHAR(255),\n",
    "    comuna VARCHAR(255)\n",
    ")\n",
    "\"\"\"\n",
    "cursor.execute(create_table_query)"
   ]
  },
  {
   "cell_type": "code",
   "execution_count": 37,
   "metadata": {},
   "outputs": [],
   "source": [
    "conexion.commit()"
   ]
  },
  {
   "cell_type": "code",
   "execution_count": 38,
   "metadata": {},
   "outputs": [
    {
     "ename": "ProgrammingError",
     "evalue": "nan can not be used with MySQL",
     "output_type": "error",
     "traceback": [
      "\u001b[1;31m---------------------------------------------------------------------------\u001b[0m",
      "\u001b[1;31mProgrammingError\u001b[0m                          Traceback (most recent call last)",
      "Cell \u001b[1;32mIn[38], line 11\u001b[0m\n\u001b[0;32m      8\u001b[0m data_to_insert \u001b[38;5;241m=\u001b[39m df_filtered\u001b[38;5;241m.\u001b[39mvalues\u001b[38;5;241m.\u001b[39mtolist()\n\u001b[0;32m     10\u001b[0m \u001b[38;5;66;03m# Insertar los datos\u001b[39;00m\n\u001b[1;32m---> 11\u001b[0m \u001b[43mcursor\u001b[49m\u001b[38;5;241;43m.\u001b[39;49m\u001b[43mexecutemany\u001b[49m\u001b[43m(\u001b[49m\u001b[43minsert_query\u001b[49m\u001b[43m,\u001b[49m\u001b[43m \u001b[49m\u001b[43mdata_to_insert\u001b[49m\u001b[43m)\u001b[49m\n\u001b[0;32m     13\u001b[0m \u001b[38;5;66;03m# Confirmar los cambios\u001b[39;00m\n\u001b[0;32m     14\u001b[0m conexion\u001b[38;5;241m.\u001b[39mcommit()\n",
      "File \u001b[1;32mc:\\Users\\Usuario\\AppData\\Local\\Programs\\Python\\Python311\\Lib\\site-packages\\pymysql\\cursors.py:182\u001b[0m, in \u001b[0;36mCursor.executemany\u001b[1;34m(self, query, args)\u001b[0m\n\u001b[0;32m    180\u001b[0m     q_postfix \u001b[38;5;241m=\u001b[39m m\u001b[38;5;241m.\u001b[39mgroup(\u001b[38;5;241m3\u001b[39m) \u001b[38;5;129;01mor\u001b[39;00m \u001b[38;5;124m\"\u001b[39m\u001b[38;5;124m\"\u001b[39m\n\u001b[0;32m    181\u001b[0m     \u001b[38;5;28;01massert\u001b[39;00m q_values[\u001b[38;5;241m0\u001b[39m] \u001b[38;5;241m==\u001b[39m \u001b[38;5;124m\"\u001b[39m\u001b[38;5;124m(\u001b[39m\u001b[38;5;124m\"\u001b[39m \u001b[38;5;129;01mand\u001b[39;00m q_values[\u001b[38;5;241m-\u001b[39m\u001b[38;5;241m1\u001b[39m] \u001b[38;5;241m==\u001b[39m \u001b[38;5;124m\"\u001b[39m\u001b[38;5;124m)\u001b[39m\u001b[38;5;124m\"\u001b[39m\n\u001b[1;32m--> 182\u001b[0m     \u001b[38;5;28;01mreturn\u001b[39;00m \u001b[38;5;28;43mself\u001b[39;49m\u001b[38;5;241;43m.\u001b[39;49m\u001b[43m_do_execute_many\u001b[49m\u001b[43m(\u001b[49m\n\u001b[0;32m    183\u001b[0m \u001b[43m        \u001b[49m\u001b[43mq_prefix\u001b[49m\u001b[43m,\u001b[49m\n\u001b[0;32m    184\u001b[0m \u001b[43m        \u001b[49m\u001b[43mq_values\u001b[49m\u001b[43m,\u001b[49m\n\u001b[0;32m    185\u001b[0m \u001b[43m        \u001b[49m\u001b[43mq_postfix\u001b[49m\u001b[43m,\u001b[49m\n\u001b[0;32m    186\u001b[0m \u001b[43m        \u001b[49m\u001b[43margs\u001b[49m\u001b[43m,\u001b[49m\n\u001b[0;32m    187\u001b[0m \u001b[43m        \u001b[49m\u001b[38;5;28;43mself\u001b[39;49m\u001b[38;5;241;43m.\u001b[39;49m\u001b[43mmax_stmt_length\u001b[49m\u001b[43m,\u001b[49m\n\u001b[0;32m    188\u001b[0m \u001b[43m        \u001b[49m\u001b[38;5;28;43mself\u001b[39;49m\u001b[38;5;241;43m.\u001b[39;49m\u001b[43m_get_db\u001b[49m\u001b[43m(\u001b[49m\u001b[43m)\u001b[49m\u001b[38;5;241;43m.\u001b[39;49m\u001b[43mencoding\u001b[49m\u001b[43m,\u001b[49m\n\u001b[0;32m    189\u001b[0m \u001b[43m    \u001b[49m\u001b[43m)\u001b[49m\n\u001b[0;32m    191\u001b[0m \u001b[38;5;28mself\u001b[39m\u001b[38;5;241m.\u001b[39mrowcount \u001b[38;5;241m=\u001b[39m \u001b[38;5;28msum\u001b[39m(\u001b[38;5;28mself\u001b[39m\u001b[38;5;241m.\u001b[39mexecute(query, arg) \u001b[38;5;28;01mfor\u001b[39;00m arg \u001b[38;5;129;01min\u001b[39;00m args)\n\u001b[0;32m    192\u001b[0m \u001b[38;5;28;01mreturn\u001b[39;00m \u001b[38;5;28mself\u001b[39m\u001b[38;5;241m.\u001b[39mrowcount\n",
      "File \u001b[1;32mc:\\Users\\Usuario\\AppData\\Local\\Programs\\Python\\Python311\\Lib\\site-packages\\pymysql\\cursors.py:211\u001b[0m, in \u001b[0;36mCursor._do_execute_many\u001b[1;34m(self, prefix, values, postfix, args, max_stmt_length, encoding)\u001b[0m\n\u001b[0;32m    209\u001b[0m rows \u001b[38;5;241m=\u001b[39m \u001b[38;5;241m0\u001b[39m\n\u001b[0;32m    210\u001b[0m \u001b[38;5;28;01mfor\u001b[39;00m arg \u001b[38;5;129;01min\u001b[39;00m args:\n\u001b[1;32m--> 211\u001b[0m     v \u001b[38;5;241m=\u001b[39m values \u001b[38;5;241m%\u001b[39m \u001b[43mescape\u001b[49m\u001b[43m(\u001b[49m\u001b[43marg\u001b[49m\u001b[43m,\u001b[49m\u001b[43m \u001b[49m\u001b[43mconn\u001b[49m\u001b[43m)\u001b[49m\n\u001b[0;32m    212\u001b[0m     \u001b[38;5;28;01mif\u001b[39;00m \u001b[38;5;28misinstance\u001b[39m(v, \u001b[38;5;28mstr\u001b[39m):\n\u001b[0;32m    213\u001b[0m         v \u001b[38;5;241m=\u001b[39m v\u001b[38;5;241m.\u001b[39mencode(encoding, \u001b[38;5;124m\"\u001b[39m\u001b[38;5;124msurrogateescape\u001b[39m\u001b[38;5;124m\"\u001b[39m)\n",
      "File \u001b[1;32mc:\\Users\\Usuario\\AppData\\Local\\Programs\\Python\\Python311\\Lib\\site-packages\\pymysql\\cursors.py:102\u001b[0m, in \u001b[0;36mCursor._escape_args\u001b[1;34m(self, args, conn)\u001b[0m\n\u001b[0;32m    100\u001b[0m \u001b[38;5;28;01mdef\u001b[39;00m \u001b[38;5;21m_escape_args\u001b[39m(\u001b[38;5;28mself\u001b[39m, args, conn):\n\u001b[0;32m    101\u001b[0m     \u001b[38;5;28;01mif\u001b[39;00m \u001b[38;5;28misinstance\u001b[39m(args, (\u001b[38;5;28mtuple\u001b[39m, \u001b[38;5;28mlist\u001b[39m)):\n\u001b[1;32m--> 102\u001b[0m         \u001b[38;5;28;01mreturn\u001b[39;00m \u001b[38;5;28mtuple\u001b[39m(conn\u001b[38;5;241m.\u001b[39mliteral(arg) \u001b[38;5;28;01mfor\u001b[39;00m arg \u001b[38;5;129;01min\u001b[39;00m args)\n\u001b[0;32m    103\u001b[0m     \u001b[38;5;28;01melif\u001b[39;00m \u001b[38;5;28misinstance\u001b[39m(args, \u001b[38;5;28mdict\u001b[39m):\n\u001b[0;32m    104\u001b[0m         \u001b[38;5;28;01mreturn\u001b[39;00m {key: conn\u001b[38;5;241m.\u001b[39mliteral(val) \u001b[38;5;28;01mfor\u001b[39;00m (key, val) \u001b[38;5;129;01min\u001b[39;00m args\u001b[38;5;241m.\u001b[39mitems()}\n",
      "File \u001b[1;32mc:\\Users\\Usuario\\AppData\\Local\\Programs\\Python\\Python311\\Lib\\site-packages\\pymysql\\cursors.py:102\u001b[0m, in \u001b[0;36m<genexpr>\u001b[1;34m(.0)\u001b[0m\n\u001b[0;32m    100\u001b[0m \u001b[38;5;28;01mdef\u001b[39;00m \u001b[38;5;21m_escape_args\u001b[39m(\u001b[38;5;28mself\u001b[39m, args, conn):\n\u001b[0;32m    101\u001b[0m     \u001b[38;5;28;01mif\u001b[39;00m \u001b[38;5;28misinstance\u001b[39m(args, (\u001b[38;5;28mtuple\u001b[39m, \u001b[38;5;28mlist\u001b[39m)):\n\u001b[1;32m--> 102\u001b[0m         \u001b[38;5;28;01mreturn\u001b[39;00m \u001b[38;5;28mtuple\u001b[39m(\u001b[43mconn\u001b[49m\u001b[38;5;241;43m.\u001b[39;49m\u001b[43mliteral\u001b[49m\u001b[43m(\u001b[49m\u001b[43marg\u001b[49m\u001b[43m)\u001b[49m \u001b[38;5;28;01mfor\u001b[39;00m arg \u001b[38;5;129;01min\u001b[39;00m args)\n\u001b[0;32m    103\u001b[0m     \u001b[38;5;28;01melif\u001b[39;00m \u001b[38;5;28misinstance\u001b[39m(args, \u001b[38;5;28mdict\u001b[39m):\n\u001b[0;32m    104\u001b[0m         \u001b[38;5;28;01mreturn\u001b[39;00m {key: conn\u001b[38;5;241m.\u001b[39mliteral(val) \u001b[38;5;28;01mfor\u001b[39;00m (key, val) \u001b[38;5;129;01min\u001b[39;00m args\u001b[38;5;241m.\u001b[39mitems()}\n",
      "File \u001b[1;32mc:\\Users\\Usuario\\AppData\\Local\\Programs\\Python\\Python311\\Lib\\site-packages\\pymysql\\connections.py:525\u001b[0m, in \u001b[0;36mConnection.literal\u001b[1;34m(self, obj)\u001b[0m\n\u001b[0;32m    520\u001b[0m \u001b[38;5;28;01mdef\u001b[39;00m \u001b[38;5;21mliteral\u001b[39m(\u001b[38;5;28mself\u001b[39m, obj):\n\u001b[0;32m    521\u001b[0m \u001b[38;5;250m    \u001b[39m\u001b[38;5;124;03m\"\"\"Alias for escape().\u001b[39;00m\n\u001b[0;32m    522\u001b[0m \n\u001b[0;32m    523\u001b[0m \u001b[38;5;124;03m    Non-standard, for internal use; do not use this in your applications.\u001b[39;00m\n\u001b[0;32m    524\u001b[0m \u001b[38;5;124;03m    \"\"\"\u001b[39;00m\n\u001b[1;32m--> 525\u001b[0m     \u001b[38;5;28;01mreturn\u001b[39;00m \u001b[38;5;28;43mself\u001b[39;49m\u001b[38;5;241;43m.\u001b[39;49m\u001b[43mescape\u001b[49m\u001b[43m(\u001b[49m\u001b[43mobj\u001b[49m\u001b[43m,\u001b[49m\u001b[43m \u001b[49m\u001b[38;5;28;43mself\u001b[39;49m\u001b[38;5;241;43m.\u001b[39;49m\u001b[43mencoders\u001b[49m\u001b[43m)\u001b[49m\n",
      "File \u001b[1;32mc:\\Users\\Usuario\\AppData\\Local\\Programs\\Python\\Python311\\Lib\\site-packages\\pymysql\\connections.py:518\u001b[0m, in \u001b[0;36mConnection.escape\u001b[1;34m(self, obj, mapping)\u001b[0m\n\u001b[0;32m    516\u001b[0m         ret \u001b[38;5;241m=\u001b[39m \u001b[38;5;124m\"\u001b[39m\u001b[38;5;124m_binary\u001b[39m\u001b[38;5;124m\"\u001b[39m \u001b[38;5;241m+\u001b[39m ret\n\u001b[0;32m    517\u001b[0m     \u001b[38;5;28;01mreturn\u001b[39;00m ret\n\u001b[1;32m--> 518\u001b[0m \u001b[38;5;28;01mreturn\u001b[39;00m \u001b[43mconverters\u001b[49m\u001b[38;5;241;43m.\u001b[39;49m\u001b[43mescape_item\u001b[49m\u001b[43m(\u001b[49m\u001b[43mobj\u001b[49m\u001b[43m,\u001b[49m\u001b[43m \u001b[49m\u001b[38;5;28;43mself\u001b[39;49m\u001b[38;5;241;43m.\u001b[39;49m\u001b[43mcharset\u001b[49m\u001b[43m,\u001b[49m\u001b[43m \u001b[49m\u001b[43mmapping\u001b[49m\u001b[38;5;241;43m=\u001b[39;49m\u001b[43mmapping\u001b[49m\u001b[43m)\u001b[49m\n",
      "File \u001b[1;32mc:\\Users\\Usuario\\AppData\\Local\\Programs\\Python\\Python311\\Lib\\site-packages\\pymysql\\converters.py:25\u001b[0m, in \u001b[0;36mescape_item\u001b[1;34m(val, charset, mapping)\u001b[0m\n\u001b[0;32m     23\u001b[0m     val \u001b[38;5;241m=\u001b[39m encoder(val, charset, mapping)\n\u001b[0;32m     24\u001b[0m \u001b[38;5;28;01melse\u001b[39;00m:\n\u001b[1;32m---> 25\u001b[0m     val \u001b[38;5;241m=\u001b[39m \u001b[43mencoder\u001b[49m\u001b[43m(\u001b[49m\u001b[43mval\u001b[49m\u001b[43m,\u001b[49m\u001b[43m \u001b[49m\u001b[43mmapping\u001b[49m\u001b[43m)\u001b[49m\n\u001b[0;32m     26\u001b[0m \u001b[38;5;28;01mreturn\u001b[39;00m val\n",
      "File \u001b[1;32mc:\\Users\\Usuario\\AppData\\Local\\Programs\\Python\\Python311\\Lib\\site-packages\\pymysql\\converters.py:60\u001b[0m, in \u001b[0;36mescape_float\u001b[1;34m(value, mapping)\u001b[0m\n\u001b[0;32m     58\u001b[0m s \u001b[38;5;241m=\u001b[39m \u001b[38;5;28mrepr\u001b[39m(value)\n\u001b[0;32m     59\u001b[0m \u001b[38;5;28;01mif\u001b[39;00m s \u001b[38;5;129;01min\u001b[39;00m (\u001b[38;5;124m\"\u001b[39m\u001b[38;5;124minf\u001b[39m\u001b[38;5;124m\"\u001b[39m, \u001b[38;5;124m\"\u001b[39m\u001b[38;5;124m-inf\u001b[39m\u001b[38;5;124m\"\u001b[39m, \u001b[38;5;124m\"\u001b[39m\u001b[38;5;124mnan\u001b[39m\u001b[38;5;124m\"\u001b[39m):\n\u001b[1;32m---> 60\u001b[0m     \u001b[38;5;28;01mraise\u001b[39;00m ProgrammingError(\u001b[38;5;124m\"\u001b[39m\u001b[38;5;132;01m%s\u001b[39;00m\u001b[38;5;124m can not be used with MySQL\u001b[39m\u001b[38;5;124m\"\u001b[39m \u001b[38;5;241m%\u001b[39m s)\n\u001b[0;32m     61\u001b[0m \u001b[38;5;28;01mif\u001b[39;00m \u001b[38;5;124m\"\u001b[39m\u001b[38;5;124me\u001b[39m\u001b[38;5;124m\"\u001b[39m \u001b[38;5;129;01mnot\u001b[39;00m \u001b[38;5;129;01min\u001b[39;00m s:\n\u001b[0;32m     62\u001b[0m     s \u001b[38;5;241m+\u001b[39m\u001b[38;5;241m=\u001b[39m \u001b[38;5;124m\"\u001b[39m\u001b[38;5;124me0\u001b[39m\u001b[38;5;124m\"\u001b[39m\n",
      "\u001b[1;31mProgrammingError\u001b[0m: nan can not be used with MySQL"
     ]
    }
   ],
   "source": [
    "# Insertar los datos en la tabla\n",
    "insert_query = \"\"\"\n",
    "INSERT INTO establecimientos(nombre, categoria, direccion, barrio, comuna)\n",
    "VALUES (%s, %s, %s, %s, %s)\n",
    "\"\"\"\n",
    "\n",
    "# Convertir el DataFrame en una lista de tuplas\n",
    "data_to_insert = df_filtered.values.tolist()\n",
    "\n",
    "# Insertar los datos\n",
    "cursor.executemany(insert_query, data_to_insert)\n",
    "\n",
    "# Confirmar los cambios\n",
    "conexion.commit()\n",
    "\n",
    "# Cerrar la conexión\n",
    "#cursor.close()\n",
    "#conexion.close()\n",
    "\n",
    "print(\"Datos insertados correctamente.\")"
   ]
  },
  {
   "cell_type": "markdown",
   "metadata": {},
   "source": [
    "Tengo este error por no haber limpiado los datos debo eliminar los Nan"
   ]
  },
  {
   "cell_type": "code",
   "execution_count": 40,
   "metadata": {},
   "outputs": [
    {
     "name": "stderr",
     "output_type": "stream",
     "text": [
      "C:\\Users\\Usuario\\AppData\\Local\\Temp\\ipykernel_10040\\3554913382.py:2: SettingWithCopyWarning: \n",
      "A value is trying to be set on a copy of a slice from a DataFrame\n",
      "\n",
      "See the caveats in the documentation: https://pandas.pydata.org/pandas-docs/stable/user_guide/indexing.html#returning-a-view-versus-a-copy\n",
      "  df_filtered.dropna(inplace=True)\n"
     ]
    }
   ],
   "source": [
    "# Eliminar filas con NaN\n",
    "df_filtered.dropna(inplace=True)\n"
   ]
  },
  {
   "cell_type": "markdown",
   "metadata": {},
   "source": [
    "Verifico que no hallan Nan"
   ]
  },
  {
   "cell_type": "code",
   "execution_count": 41,
   "metadata": {},
   "outputs": [
    {
     "data": {
      "text/plain": [
       "nombre                0\n",
       "categoria             0\n",
       "direccion_completa    0\n",
       "barrio                0\n",
       "comuna                0\n",
       "dtype: int64"
      ]
     },
     "execution_count": 41,
     "metadata": {},
     "output_type": "execute_result"
    }
   ],
   "source": [
    "df_filtered.isnull().sum()"
   ]
  },
  {
   "cell_type": "code",
   "execution_count": 42,
   "metadata": {},
   "outputs": [
    {
     "name": "stdout",
     "output_type": "stream",
     "text": [
      "Datos insertados correctamente.\n"
     ]
    }
   ],
   "source": [
    "# Insertar los datos en la tabla\n",
    "insert_query = \"\"\"\n",
    "INSERT INTO establecimientos(nombre, categoria, direccion, barrio, comuna)\n",
    "VALUES (%s, %s, %s, %s, %s)\n",
    "\"\"\"\n",
    "\n",
    "# Convertir el DataFrame en una lista de tuplas\n",
    "data_to_insert = df_filtered.values.tolist()\n",
    "\n",
    "# Insertar los datos\n",
    "cursor.executemany(insert_query, data_to_insert)\n",
    "\n",
    "# Confirmar los cambios\n",
    "conexion.commit()\n",
    "\n",
    "print(\"Datos insertados correctamente.\")"
   ]
  },
  {
   "cell_type": "code",
   "execution_count": 22,
   "metadata": {},
   "outputs": [],
   "source": [
    "og = pd.read_csv('OG_filtrado.csv')"
   ]
  },
  {
   "cell_type": "code",
   "execution_count": 23,
   "metadata": {},
   "outputs": [
    {
     "data": {
      "text/html": [
       "<div>\n",
       "<style scoped>\n",
       "    .dataframe tbody tr th:only-of-type {\n",
       "        vertical-align: middle;\n",
       "    }\n",
       "\n",
       "    .dataframe tbody tr th {\n",
       "        vertical-align: top;\n",
       "    }\n",
       "\n",
       "    .dataframe thead th {\n",
       "        text-align: right;\n",
       "    }\n",
       "</style>\n",
       "<table border=\"1\" class=\"dataframe\">\n",
       "  <thead>\n",
       "    <tr style=\"text-align: right;\">\n",
       "      <th></th>\n",
       "      <th>nombre</th>\n",
       "      <th>categoria</th>\n",
       "      <th>direccion_completa</th>\n",
       "      <th>barrio</th>\n",
       "      <th>comuna</th>\n",
       "    </tr>\n",
       "  </thead>\n",
       "  <tbody>\n",
       "    <tr>\n",
       "      <th>0</th>\n",
       "      <td>GUANTANAMERA</td>\n",
       "      <td>RESTAURANTE</td>\n",
       "      <td>MOREAU DE JUSTO, ALICIA AV. 2092</td>\n",
       "      <td>Puerto Madero</td>\n",
       "      <td>Comuna 1</td>\n",
       "    </tr>\n",
       "    <tr>\n",
       "      <th>1</th>\n",
       "      <td>1843 VINACOTECA</td>\n",
       "      <td>VINERIA</td>\n",
       "      <td>HUMBERTO 1Âº 1843</td>\n",
       "      <td>San Cristobal</td>\n",
       "      <td>Comuna 3</td>\n",
       "    </tr>\n",
       "    <tr>\n",
       "      <th>2</th>\n",
       "      <td>2080 EXPRESS</td>\n",
       "      <td>RESTAURANTE</td>\n",
       "      <td>JURAMENTO AV. 2080</td>\n",
       "      <td>Belgrano</td>\n",
       "      <td>Comuna 13</td>\n",
       "    </tr>\n",
       "    <tr>\n",
       "      <th>3</th>\n",
       "      <td>22</td>\n",
       "      <td>CAFE</td>\n",
       "      <td>MURGUIONDO 4188</td>\n",
       "      <td>Villa Lugano</td>\n",
       "      <td>Comuna 8</td>\n",
       "    </tr>\n",
       "    <tr>\n",
       "      <th>4</th>\n",
       "      <td>4 EN 2 I</td>\n",
       "      <td>RESTAURANTE</td>\n",
       "      <td>BORGES, JORGE LUIS 2095</td>\n",
       "      <td>Palermo</td>\n",
       "      <td>Comuna 14</td>\n",
       "    </tr>\n",
       "  </tbody>\n",
       "</table>\n",
       "</div>"
      ],
      "text/plain": [
       "            nombre    categoria                direccion_completa  \\\n",
       "0     GUANTANAMERA  RESTAURANTE  MOREAU DE JUSTO, ALICIA AV. 2092   \n",
       "1  1843 VINACOTECA      VINERIA                 HUMBERTO 1Âº 1843   \n",
       "2     2080 EXPRESS  RESTAURANTE                JURAMENTO AV. 2080   \n",
       "3               22         CAFE                   MURGUIONDO 4188   \n",
       "4         4 EN 2 I  RESTAURANTE           BORGES, JORGE LUIS 2095   \n",
       "\n",
       "          barrio     comuna  \n",
       "0  Puerto Madero   Comuna 1  \n",
       "1  San Cristobal   Comuna 3  \n",
       "2       Belgrano  Comuna 13  \n",
       "3   Villa Lugano   Comuna 8  \n",
       "4        Palermo  Comuna 14  "
      ]
     },
     "execution_count": 23,
     "metadata": {},
     "output_type": "execute_result"
    }
   ],
   "source": [
    "og.head(5)"
   ]
  },
  {
   "cell_type": "markdown",
   "metadata": {},
   "source": [
    "Para armar diccionario de datos "
   ]
  },
  {
   "cell_type": "code",
   "execution_count": 24,
   "metadata": {},
   "outputs": [
    {
     "name": "stdout",
     "output_type": "stream",
     "text": [
      "<class 'pandas.core.frame.DataFrame'>\n",
      "RangeIndex: 2823 entries, 0 to 2822\n",
      "Data columns (total 5 columns):\n",
      " #   Column              Non-Null Count  Dtype \n",
      "---  ------              --------------  ----- \n",
      " 0   nombre              2823 non-null   object\n",
      " 1   categoria           2707 non-null   object\n",
      " 2   direccion_completa  2822 non-null   object\n",
      " 3   barrio              2823 non-null   object\n",
      " 4   comuna              2823 non-null   object\n",
      "dtypes: object(5)\n",
      "memory usage: 110.4+ KB\n"
     ]
    }
   ],
   "source": [
    "og.info()"
   ]
  },
  {
   "cell_type": "code",
   "execution_count": 25,
   "metadata": {},
   "outputs": [
    {
     "data": {
      "text/html": [
       "<div>\n",
       "<style scoped>\n",
       "    .dataframe tbody tr th:only-of-type {\n",
       "        vertical-align: middle;\n",
       "    }\n",
       "\n",
       "    .dataframe tbody tr th {\n",
       "        vertical-align: top;\n",
       "    }\n",
       "\n",
       "    .dataframe thead th {\n",
       "        text-align: right;\n",
       "    }\n",
       "</style>\n",
       "<table border=\"1\" class=\"dataframe\">\n",
       "  <thead>\n",
       "    <tr style=\"text-align: right;\">\n",
       "      <th></th>\n",
       "      <th>nombre</th>\n",
       "      <th>categoria</th>\n",
       "      <th>direccion_completa</th>\n",
       "      <th>barrio</th>\n",
       "      <th>comuna</th>\n",
       "    </tr>\n",
       "  </thead>\n",
       "  <tbody>\n",
       "    <tr>\n",
       "      <th>count</th>\n",
       "      <td>2823</td>\n",
       "      <td>2707</td>\n",
       "      <td>2822</td>\n",
       "      <td>2823</td>\n",
       "      <td>2823</td>\n",
       "    </tr>\n",
       "    <tr>\n",
       "      <th>unique</th>\n",
       "      <td>2554</td>\n",
       "      <td>8</td>\n",
       "      <td>2745</td>\n",
       "      <td>47</td>\n",
       "      <td>15</td>\n",
       "    </tr>\n",
       "    <tr>\n",
       "      <th>top</th>\n",
       "      <td>MC DONALD'S</td>\n",
       "      <td>RESTAURANTE</td>\n",
       "      <td>FLORIDA 787</td>\n",
       "      <td>Palermo</td>\n",
       "      <td>Comuna 1</td>\n",
       "    </tr>\n",
       "    <tr>\n",
       "      <th>freq</th>\n",
       "      <td>53</td>\n",
       "      <td>1990</td>\n",
       "      <td>6</td>\n",
       "      <td>467</td>\n",
       "      <td>870</td>\n",
       "    </tr>\n",
       "  </tbody>\n",
       "</table>\n",
       "</div>"
      ],
      "text/plain": [
       "             nombre    categoria direccion_completa   barrio    comuna\n",
       "count          2823         2707               2822     2823      2823\n",
       "unique         2554            8               2745       47        15\n",
       "top     MC DONALD'S  RESTAURANTE        FLORIDA 787  Palermo  Comuna 1\n",
       "freq             53         1990                  6      467       870"
      ]
     },
     "execution_count": 25,
     "metadata": {},
     "output_type": "execute_result"
    }
   ],
   "source": [
    "og.describe()"
   ]
  },
  {
   "cell_type": "markdown",
   "metadata": {},
   "source": [
    "Las queries con py\n",
    "\n",
    "a) ¿Cuál es el barrio con mayor cantidad de Pubs?\n",
    "\n",
    "b) Obtener la cantidad de locales por categoría \n",
    "\n",
    "c) Obtener la cantidad de restaurantes por comuna"
   ]
  },
  {
   "cell_type": "code",
   "execution_count": 43,
   "metadata": {},
   "outputs": [
    {
     "name": "stdout",
     "output_type": "stream",
     "text": [
      "Barrio con mayor cantidad de Pubs: Recoleta con 8 Pubs\n"
     ]
    }
   ],
   "source": [
    "# Consulta a)\n",
    "query_a = \"\"\"\n",
    "SELECT barrio, COUNT(*) as cantidad_pubs\n",
    "FROM establecimientos\n",
    "WHERE categoria = 'Pub'\n",
    "GROUP BY barrio\n",
    "ORDER BY cantidad_pubs DESC\n",
    "LIMIT 1\n",
    "\"\"\"\n",
    "\n",
    "cursor.execute(query_a)\n",
    "result_a = cursor.fetchone()\n",
    "\n",
    "print(\"Barrio con mayor cantidad de Pubs:\", result_a[0], \"con\", result_a[1], \"Pubs\")\n"
   ]
  },
  {
   "cell_type": "code",
   "execution_count": 44,
   "metadata": {},
   "outputs": [
    {
     "name": "stdout",
     "output_type": "stream",
     "text": [
      "Cantidad de locales por categoría:\n",
      "RESTAURANTE : 1990\n",
      "VINERIA : 22\n",
      "CAFE : 334\n",
      "BAR : 246\n",
      "PUB : 53\n",
      "CONFITERIA : 55\n",
      "SANDWICHERIA : 4\n",
      "DELIVERY & TAKE AWAY : 2\n"
     ]
    }
   ],
   "source": [
    " #Consulta b)\n",
    "query_b = \"\"\"\n",
    "SELECT categoria, COUNT(*) as cantidad_locales\n",
    "FROM establecimientos\n",
    "GROUP BY categoria\n",
    "\"\"\"\n",
    "\n",
    "cursor.execute(query_b)\n",
    "result_b = cursor.fetchall()\n",
    "\n",
    "print(\"Cantidad de locales por categoría:\")\n",
    "for row in result_b:\n",
    "    print(row[0], \":\", row[1])"
   ]
  },
  {
   "cell_type": "code",
   "execution_count": 50,
   "metadata": {},
   "outputs": [
    {
     "name": "stdout",
     "output_type": "stream",
     "text": [
      "Cantidad de restaurantes por comuna:\n",
      "Comuna 1 : 609\n",
      "Comuna 13 : 108\n",
      "Comuna 14 : 366\n",
      "Comuna 2 : 227\n",
      "Comuna 7 : 64\n",
      "Comuna 12 : 42\n",
      "Comuna 10 : 43\n",
      "Comuna 4 : 95\n",
      "Comuna 3 : 145\n",
      "Comuna 5 : 56\n",
      "Comuna 9 : 52\n",
      "Comuna 6 : 87\n",
      "Comuna 15 : 57\n",
      "Comuna 8 : 6\n",
      "Comuna 11 : 33\n"
     ]
    }
   ],
   "source": [
    "# Consulta c)\n",
    "query_c = \"\"\"\n",
    "SELECT comuna, COUNT(*) as cantidad_restaurantes\n",
    "FROM establecimientos\n",
    "WHERE categoria = 'Restaurante'\n",
    "GROUP BY comuna\n",
    "\"\"\"\n",
    "\n",
    "cursor.execute(query_c)\n",
    "result_c = cursor.fetchall()\n",
    "\n",
    "print(\"Cantidad de restaurantes por comuna:\")\n",
    "for row in result_c:\n",
    "    print(row[0], \":\", row[1])\n",
    "\n"
   ]
  },
  {
   "cell_type": "code",
   "execution_count": 51,
   "metadata": {},
   "outputs": [],
   "source": [
    "# Cerrar la conexión\n",
    "cursor.close()\n",
    "conexion.close()"
   ]
  },
  {
   "cell_type": "markdown",
   "metadata": {},
   "source": [
    "Ahora hago las queries en Msql"
   ]
  }
 ],
 "metadata": {
  "kernelspec": {
   "display_name": "Python 3",
   "language": "python",
   "name": "python3"
  },
  "language_info": {
   "codemirror_mode": {
    "name": "ipython",
    "version": 3
   },
   "file_extension": ".py",
   "mimetype": "text/x-python",
   "name": "python",
   "nbconvert_exporter": "python",
   "pygments_lexer": "ipython3",
   "version": "3.11.4"
  }
 },
 "nbformat": 4,
 "nbformat_minor": 2
}
